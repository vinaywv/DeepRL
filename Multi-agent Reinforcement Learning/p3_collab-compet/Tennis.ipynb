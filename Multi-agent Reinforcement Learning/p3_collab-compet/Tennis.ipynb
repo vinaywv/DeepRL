{
 "cells": [
  {
   "cell_type": "markdown",
   "metadata": {},
   "source": [
    "# Collaboration and Competition\n",
    "\n",
    "---\n",
    "\n",
    "You are welcome to use this coding environment to train your agent for the project.  Follow the instructions below to get started!\n",
    "\n",
    "### 1. Start the Environment\n",
    "\n",
    "Run the next code cell to install a few packages.  This line will take a few minutes to run!"
   ]
  },
  {
   "cell_type": "code",
   "execution_count": 1,
   "metadata": {},
   "outputs": [
    {
     "name": "stdout",
     "output_type": "stream",
     "text": [
      "\u001b[31mtensorflow 1.7.1 has requirement numpy>=1.13.3, but you'll have numpy 1.12.1 which is incompatible.\u001b[0m\r\n",
      "\u001b[31mipython 6.5.0 has requirement prompt-toolkit<2.0.0,>=1.0.15, but you'll have prompt-toolkit 3.0.36 which is incompatible.\u001b[0m\r\n",
      "\u001b[31mjupyter-console 6.4.3 has requirement jupyter-client>=7.0.0, but you'll have jupyter-client 5.2.4 which is incompatible.\u001b[0m\r\n"
     ]
    }
   ],
   "source": [
    "!pip -q install ./python"
   ]
  },
  {
   "cell_type": "markdown",
   "metadata": {},
   "source": [
    "The environment is already saved in the Workspace and can be accessed at the file path provided below. "
   ]
  },
  {
   "cell_type": "code",
   "execution_count": 2,
   "metadata": {},
   "outputs": [
    {
     "name": "stderr",
     "output_type": "stream",
     "text": [
      "INFO:unityagents:\n",
      "'Academy' started successfully!\n",
      "Unity Academy name: Academy\n",
      "        Number of Brains: 1\n",
      "        Number of External Brains : 1\n",
      "        Lesson number : 0\n",
      "        Reset Parameters :\n",
      "\t\t\n",
      "Unity brain name: TennisBrain\n",
      "        Number of Visual Observations (per agent): 0\n",
      "        Vector Observation space type: continuous\n",
      "        Vector Observation space size (per agent): 8\n",
      "        Number of stacked Vector Observation: 3\n",
      "        Vector Action space type: continuous\n",
      "        Vector Action space size (per agent): 2\n",
      "        Vector Action descriptions: , \n"
     ]
    }
   ],
   "source": [
    "from unityagents import UnityEnvironment\n",
    "import numpy as np\n",
    "\n",
    "env = UnityEnvironment(file_name=\"/data/Tennis_Linux_NoVis/Tennis\")"
   ]
  },
  {
   "cell_type": "markdown",
   "metadata": {},
   "source": [
    "Environments contain **_brains_** which are responsible for deciding the actions of their associated agents. Here we check for the first brain available, and set it as the default brain we will be controlling from Python."
   ]
  },
  {
   "cell_type": "code",
   "execution_count": 3,
   "metadata": {},
   "outputs": [],
   "source": [
    "# get the default brain\n",
    "brain_name = env.brain_names[0]\n",
    "brain = env.brains[brain_name]"
   ]
  },
  {
   "cell_type": "markdown",
   "metadata": {},
   "source": [
    "### 2. Examine the State and Action Spaces\n",
    "\n",
    "Run the code cell below to print some information about the environment."
   ]
  },
  {
   "cell_type": "code",
   "execution_count": 4,
   "metadata": {},
   "outputs": [
    {
     "name": "stdout",
     "output_type": "stream",
     "text": [
      "Number of agents: 2\n",
      "Size of each action: 2\n",
      "There are 2 agents. Each observes a state with length: 24\n",
      "The state for the first agent looks like: [ 0.          0.          0.          0.          0.          0.          0.\n",
      "  0.          0.          0.          0.          0.          0.          0.\n",
      "  0.          0.         -6.65278625 -1.5        -0.          0.\n",
      "  6.83172083  6.         -0.          0.        ]\n"
     ]
    }
   ],
   "source": [
    "# reset the environment\n",
    "env_info = env.reset(train_mode=True)[brain_name]\n",
    "\n",
    "# number of agents \n",
    "num_agents = len(env_info.agents)\n",
    "print('Number of agents:', num_agents)\n",
    "\n",
    "# size of each action\n",
    "action_size = brain.vector_action_space_size\n",
    "print('Size of each action:', action_size)\n",
    "\n",
    "# examine the state space \n",
    "states = env_info.vector_observations\n",
    "state_size = states.shape[1]\n",
    "print('There are {} agents. Each observes a state with length: {}'.format(states.shape[0], state_size))\n",
    "print('The state for the first agent looks like:', states[0])"
   ]
  },
  {
   "cell_type": "markdown",
   "metadata": {},
   "source": [
    "### 3. Take Random Actions in the Environment\n",
    "\n",
    "In the next code cell, you will learn how to use the Python API to control the agent and receive feedback from the environment.\n",
    "\n",
    "Note that **in this coding environment, you will not be able to watch the agents while they are training**, and you should set `train_mode=True` to restart the environment."
   ]
  },
  {
   "cell_type": "code",
   "execution_count": 5,
   "metadata": {},
   "outputs": [
    {
     "name": "stdout",
     "output_type": "stream",
     "text": [
      "30\n",
      "[-0.01  0.1 ]\n",
      "Total score (averaged over agents) this episode: 0.10000000149011612\n",
      "31\n",
      "[ 0.    0.09]\n",
      "Total score (averaged over agents) this episode: 0.09000000171363354\n",
      "14\n",
      "[ 0.   -0.01]\n",
      "Total score (averaged over agents) this episode: 0.0\n",
      "14\n",
      "[ 0.   -0.01]\n",
      "Total score (averaged over agents) this episode: 0.0\n",
      "15\n",
      "[ 0.   -0.01]\n",
      "Total score (averaged over agents) this episode: 0.0\n"
     ]
    }
   ],
   "source": [
    "for i in range(5):                                         # play game for 5 episodes\n",
    "    env_info = env.reset(train_mode=False)[brain_name]     # reset the environment    \n",
    "    states = env_info.vector_observations                  # get the current state (for each agent)\n",
    "    scores = np.zeros(num_agents)                          # initialize the score (for each agent)\n",
    "    j=0\n",
    "    while True:\n",
    "        actions = np.random.randn(num_agents, action_size) # select an action (for each agent)\n",
    "        actions = np.clip(actions, -1, 1)                  # all actions between -1 and 1\n",
    "        env_info = env.step(actions)[brain_name]           # send all actions to tne environment\n",
    "        next_states = env_info.vector_observations         # get next state (for each agent)\n",
    "        rewards = env_info.rewards                         # get reward (for each agent)\n",
    "        dones = env_info.local_done                        # see if episode finished\n",
    "        scores += env_info.rewards                         # update the score (for each agent)\n",
    "        states = next_states                               # roll over states to next time step\n",
    "        j += 1\n",
    "        if np.any(dones):                                  # exit loop if episode finished\n",
    "            break\n",
    "    print(j)\n",
    "    print(scores)\n",
    "    print('Total score (averaged over agents) this episode: {}'.format(np.max(scores)))"
   ]
  },
  {
   "cell_type": "markdown",
   "metadata": {},
   "source": [
    "When finished, you can close the environment."
   ]
  },
  {
   "cell_type": "code",
   "execution_count": 6,
   "metadata": {},
   "outputs": [],
   "source": [
    "# env.close()"
   ]
  },
  {
   "cell_type": "markdown",
   "metadata": {},
   "source": [
    "### 4. It's Your Turn!\n",
    "\n",
    "Now it's your turn to train your own agent to solve the environment!  A few **important notes**:\n",
    "- When training the environment, set `train_mode=True`, so that the line for resetting the environment looks like the following:\n",
    "```python\n",
    "env_info = env.reset(train_mode=True)[brain_name]\n",
    "```\n",
    "- To structure your work, you're welcome to work directly in this Jupyter notebook, or you might like to start over with a new file!  You can see the list of files in the workspace by clicking on **_Jupyter_** in the top left corner of the notebook.\n",
    "- In this coding environment, you will not be able to watch the agents while they are training.  However, **_after training the agents_**, you can download the saved model weights to watch the agents on your own machine! "
   ]
  },
  {
   "cell_type": "code",
   "execution_count": 14,
   "metadata": {},
   "outputs": [],
   "source": [
    "%reload_ext ddpg_agent\n",
    "%reload_ext model\n",
    "from ddpg_agent import Agent\n",
    "agent = Agent(state_size=48, action_size=2*2, num_agents=1, random_seed=2)"
   ]
  },
  {
   "cell_type": "code",
   "execution_count": 17,
   "metadata": {},
   "outputs": [],
   "source": [
    "from collections import deque\n",
    "import torch\n",
    "import matplotlib.pyplot as plt\n",
    "%matplotlib inline\n",
    "\n",
    "def ddpg(n_episodes=2000, max_t=100000, print_every=100):\n",
    "    scores_deque = deque(maxlen=print_every)\n",
    "    scores = []\n",
    "    for i_episode in range(1, n_episodes+1):\n",
    "        env_info = env.reset(train_mode=True)[brain_name]\n",
    "        state = env_info.vector_observations\n",
    "        state = state.reshape(1,48)\n",
    "        agent.reset()\n",
    "        score = np.zeros(num_agents)\n",
    "        for t in range(max_t):\n",
    "            action = agent.act(state)\n",
    "            env_info = env.step(action)[brain_name]           # send all actions to tne environment\n",
    "            next_state = env_info.vector_observations       # get next state (for each agent)\n",
    "            next_state = next_state.reshape(1,48)\n",
    "            reward = env_info.rewards                         # get reward (for each agent)\n",
    "            done = env_info.local_done\n",
    "            agent.step(state, action, reward, next_state, done)\n",
    "            state = next_state\n",
    "            score += reward\n",
    "            if np.any(done):\n",
    "                break \n",
    "        scores_deque.append(np.max(score))\n",
    "        scores.append(np.max(score))\n",
    "        print('\\rEpisode {}\\tAverage Score: {:.4f}\\tEpsilon:{:.4f}'.format(i_episode, np.mean(scores_deque), agent.eps), end=\"\")\n",
    "        if np.mean(scores_deque) > 0.5:\n",
    "            print('\\nEnvironment solved in {:d} episodes!\\tAverage Score: {:.4f}\\tEpsilon:{:.4f}'.format(i_episode, np.mean(scores_deque), agent.eps))\n",
    "            torch.save(agent.actor_local.state_dict(), 'checkpoint_actor.pth')\n",
    "            torch.save(agent.critic_local.state_dict(), 'checkpoint_critic.pth')\n",
    "            break\n",
    "        if i_episode % print_every == 0:\n",
    "            print('\\rEpisode {}\\tAverage Score: {:.4f}\\tEpsilon:{:.4f}'.format(i_episode, np.mean(scores_deque), agent.eps))\n",
    "            \n",
    "    return scores"
   ]
  },
  {
   "cell_type": "code",
   "execution_count": 18,
   "metadata": {},
   "outputs": [
    {
     "name": "stdout",
     "output_type": "stream",
     "text": [
      "Episode 100\tAverage Score: 0.0009\tEpsilon:0.9950\n",
      "Episode 200\tAverage Score: 0.0030\tEpsilon:0.9900\n",
      "Episode 300\tAverage Score: 0.0242\tEpsilon:0.9801\n",
      "Episode 400\tAverage Score: 0.0422\tEpsilon:0.9655\n",
      "Episode 500\tAverage Score: 0.0563\tEpsilon:0.9559\n",
      "Episode 600\tAverage Score: 0.0648\tEpsilon:0.9416\n",
      "Episode 700\tAverage Score: 0.0891\tEpsilon:0.9229\n",
      "Episode 800\tAverage Score: 0.0982\tEpsilon:0.9046\n",
      "Episode 900\tAverage Score: 0.0976\tEpsilon:0.8822\n",
      "Episode 1000\tAverage Score: 0.1048\tEpsilon:0.8647\n",
      "Episode 1100\tAverage Score: 0.1253\tEpsilon:0.8391\n",
      "Episode 1200\tAverage Score: 0.1597\tEpsilon:0.8102\n",
      "Episode 1300\tAverage Score: 0.2083\tEpsilon:0.7783\n",
      "Episode 1400\tAverage Score: 0.2412\tEpsilon:0.7403\n",
      "Episode 1500\tAverage Score: 0.2151\tEpsilon:0.7076\n",
      "Episode 1600\tAverage Score: 0.3613\tEpsilon:0.6564\n",
      "Episode 1700\tAverage Score: 0.4129\tEpsilon:0.6058\n",
      "Episode 1800\tAverage Score: 0.3886\tEpsilon:0.5619\n",
      "Episode 1858\tAverage Score: 0.5169\tEpsilon:0.5238\n",
      "Environment solved in 1858 episodes!\tAverage Score: 0.5169\tEpsilon:0.5238\n"
     ]
    },
    {
     "data": {
      "image/png": "[encoded data removed]",
      "text/plain": [
       "<matplotlib.figure.Figure at 0x7f9708cb7c50>"
      ]
     },
     "metadata": {
      "needs_background": "light"
     },
     "output_type": "display_data"
    }
   ],
   "source": [
    "scores = ddpg()\n",
    "\n",
    "fig = plt.figure()\n",
    "ax = fig.add_subplot(111)\n",
    "plt.plot(np.arange(1, len(scores)+1), scores)\n",
    "plt.ylabel('Score')\n",
    "plt.xlabel('Episode #')\n",
    "plt.savefig('scores_vs_episodes.jpg')\n",
    "plt.show()"
   ]
  },
  {
   "cell_type": "code",
   "execution_count": null,
   "metadata": {},
   "outputs": [],
   "source": [
    "# Episode 100\tAverage Score: 0.0029\tEpsilon:0.995\n",
    "# Episode 200\tAverage Score: 0.0069\tEpsilon:0.990025\n",
    "# Episode 300\tAverage Score: 0.0208\tEpsilon:0.9801495006250001\n",
    "# Episode 400\tAverage Score: 0.0590\tEpsilon:0.9655206468094844\n",
    "# Episode 500\tAverage Score: 0.1004\tEpsilon:0.9463545798134439\n",
    "# Episode 600\tAverage Score: 0.1012\tEpsilon:0.9275689688183278\n",
    "# Episode 700\tAverage Score: 0.1241\tEpsilon:0.9046104802746175\n",
    "# Episode 800\tAverage Score: 0.1314\tEpsilon:0.8778091417340573\n",
    "# Episode 900\tAverage Score: 0.1534\tEpsilon:0.8518018596003477\n",
    "# Episode 1000\tAverage Score: 0.2233\tEpsilon:0.810157377815473"
   ]
  },
  {
   "cell_type": "code",
   "execution_count": null,
   "metadata": {},
   "outputs": [],
   "source": [
    "# Episode 100\tAverage Score: 0.2283\tEpsilon:0.7744209942832988\n",
    "# Episode 200\tAverage Score: 0.2190\tEpsilon:0.7402609576967045\n",
    "# Episode 300\tAverage Score: 0.2679\tEpsilon:0.7005493475733617\n",
    "# Episode 400\tAverage Score: 0.3634\tEpsilon:0.6530732019446993\n",
    "# Episode 471\tAverage Score: 0.5040\tEpsilon:0.6088145090359074\n",
    "# Environment solved in 471 episodes!\tAverage Score: 0.5040\tEpsilon:0.6088145090359074"
   ]
  },
  {
   "cell_type": "code",
   "execution_count": 31,
   "metadata": {},
   "outputs": [],
   "source": [
    "# Episode 100\tAverage Score: 0.2243\n",
    "# Episode 200\tAverage Score: 0.2235\n",
    "# Episode 300\tAverage Score: 0.2465\n",
    "# Episode 400\tAverage Score: 0.2330\n",
    "# Episode 500\tAverage Score: 0.2299\n",
    "# Episode 600\tAverage Score: 0.2206\n",
    "# Episode 700\tAverage Score: 0.2345\n",
    "# Episode 800\tAverage Score: 0.2317\n",
    "# Episode 900\tAverage Score: 0.2589\n",
    "# Episode 1000\tAverage Score: 0.2039\n",
    "# Episode 1100\tAverage Score: 0.2258\n",
    "# Episode 1200\tAverage Score: 0.2419\n",
    "# Episode 1300\tAverage Score: 0.2589\n",
    "# Episode 1400\tAverage Score: 0.2539\n",
    "# Episode 1500\tAverage Score: 0.2438\n",
    "# Episode 1600\tAverage Score: 0.2539\n",
    "# Episode 1700\tAverage Score: 0.2398\n",
    "# Episode 1800\tAverage Score: 0.2569\n",
    "# Episode 1900\tAverage Score: 0.2327\n",
    "# Episode 2000\tAverage Score: 0.2234\n",
    "# Episode 2100\tAverage Score: 0.2520\n",
    "# Episode 2200\tAverage Score: 0.2680\n",
    "# Episode 2300\tAverage Score: 0.2520\n",
    "# Episode 2400\tAverage Score: 0.2448\n",
    "# Episode 2500\tAverage Score: 0.2408\n",
    "# Episode 2600\tAverage Score: 0.2399\n",
    "# Episode 2700\tAverage Score: 0.2359\n",
    "# Episode 2800\tAverage Score: 0.2139\n",
    "# Episode 2900\tAverage Score: 0.2529\n",
    "# Episode 3000\tAverage Score: 0.2239"
   ]
  },
  {
   "cell_type": "code",
   "execution_count": 16,
   "metadata": {},
   "outputs": [
    {
     "data": {
      "text/plain": [
       "0.00998645168764533"
      ]
     },
     "execution_count": 16,
     "metadata": {},
     "output_type": "execute_result"
    }
   ],
   "source": [
    "agent.eps"
   ]
  },
  {
   "cell_type": "code",
   "execution_count": null,
   "metadata": {},
   "outputs": [],
   "source": [
    "print('\\rEpisode: {}\\tMax Reward: {:2.3f}\\tAverage (Max) Reward: {:2.3f}'.format(i_episode, np.max(scores),\n",
    "                                                                                        average_score), end=\"\")"
   ]
  }
 ],
 "metadata": {
  "kernelspec": {
   "display_name": "Python 3",
   "language": "python",
   "name": "python3"
  },
  "language_info": {
   "codemirror_mode": {
    "name": "ipython",
    "version": 3
   },
   "file_extension": ".py",
   "mimetype": "text/x-python",
   "name": "python",
   "nbconvert_exporter": "python",
   "pygments_lexer": "ipython3",
   "version": "3.6.3"
  }
 },
 "nbformat": 4,
 "nbformat_minor": 2
}
